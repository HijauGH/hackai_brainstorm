{
  "nbformat": 4,
  "nbformat_minor": 0,
  "metadata": {
    "colab": {
      "provenance": []
    },
    "kernelspec": {
      "name": "python3",
      "display_name": "Python 3"
    },
    "language_info": {
      "name": "python"
    }
  },
  "cells": [
    {
      "cell_type": "code",
      "execution_count": 1,
      "metadata": {
        "colab": {
          "base_uri": "https://localhost:8080/"
        },
        "id": "R0Wzs9bbLQ9F",
        "outputId": "db6fed50-cddf-4644-c7a3-cf4d7ab70929"
      },
      "outputs": [
        {
          "output_type": "stream",
          "name": "stdout",
          "text": [
            "Collecting catboost\n",
            "  Downloading catboost-1.2.5-cp310-cp310-manylinux2014_x86_64.whl (98.2 MB)\n",
            "\u001b[2K     \u001b[90m━━━━━━━━━━━━━━━━━━━━━━━━━━━━━━━━━━━━━━━━\u001b[0m \u001b[32m98.2/98.2 MB\u001b[0m \u001b[31m6.5 MB/s\u001b[0m eta \u001b[36m0:00:00\u001b[0m\n",
            "\u001b[?25hCollecting osmnx\n",
            "  Downloading osmnx-1.9.3-py3-none-any.whl (107 kB)\n",
            "\u001b[2K     \u001b[90m━━━━━━━━━━━━━━━━━━━━━━━━━━━━━━━━━━━━━━━━\u001b[0m \u001b[32m107.2/107.2 kB\u001b[0m \u001b[31m7.0 MB/s\u001b[0m eta \u001b[36m0:00:00\u001b[0m\n",
            "\u001b[?25hRequirement already satisfied: scipy in /usr/local/lib/python3.10/dist-packages (1.11.4)\n",
            "Requirement already satisfied: geopy in /usr/local/lib/python3.10/dist-packages (2.3.0)\n",
            "Requirement already satisfied: graphviz in /usr/local/lib/python3.10/dist-packages (from catboost) (0.20.3)\n",
            "Requirement already satisfied: matplotlib in /usr/local/lib/python3.10/dist-packages (from catboost) (3.7.1)\n",
            "Requirement already satisfied: numpy>=1.16.0 in /usr/local/lib/python3.10/dist-packages (from catboost) (1.25.2)\n",
            "Requirement already satisfied: pandas>=0.24 in /usr/local/lib/python3.10/dist-packages (from catboost) (2.0.3)\n",
            "Requirement already satisfied: plotly in /usr/local/lib/python3.10/dist-packages (from catboost) (5.15.0)\n",
            "Requirement already satisfied: six in /usr/local/lib/python3.10/dist-packages (from catboost) (1.16.0)\n",
            "Requirement already satisfied: geopandas>=0.12 in /usr/local/lib/python3.10/dist-packages (from osmnx) (0.13.2)\n",
            "Requirement already satisfied: networkx>=2.5 in /usr/local/lib/python3.10/dist-packages (from osmnx) (3.3)\n",
            "Requirement already satisfied: requests>=2.27 in /usr/local/lib/python3.10/dist-packages (from osmnx) (2.31.0)\n",
            "Requirement already satisfied: shapely>=2.0 in /usr/local/lib/python3.10/dist-packages (from osmnx) (2.0.4)\n",
            "Requirement already satisfied: geographiclib<3,>=1.52 in /usr/local/lib/python3.10/dist-packages (from geopy) (2.0)\n",
            "Requirement already satisfied: fiona>=1.8.19 in /usr/local/lib/python3.10/dist-packages (from geopandas>=0.12->osmnx) (1.9.6)\n",
            "Requirement already satisfied: packaging in /usr/local/lib/python3.10/dist-packages (from geopandas>=0.12->osmnx) (24.1)\n",
            "Requirement already satisfied: pyproj>=3.0.1 in /usr/local/lib/python3.10/dist-packages (from geopandas>=0.12->osmnx) (3.6.1)\n",
            "Requirement already satisfied: python-dateutil>=2.8.2 in /usr/local/lib/python3.10/dist-packages (from pandas>=0.24->catboost) (2.8.2)\n",
            "Requirement already satisfied: pytz>=2020.1 in /usr/local/lib/python3.10/dist-packages (from pandas>=0.24->catboost) (2023.4)\n",
            "Requirement already satisfied: tzdata>=2022.1 in /usr/local/lib/python3.10/dist-packages (from pandas>=0.24->catboost) (2024.1)\n",
            "Requirement already satisfied: charset-normalizer<4,>=2 in /usr/local/lib/python3.10/dist-packages (from requests>=2.27->osmnx) (3.3.2)\n",
            "Requirement already satisfied: idna<4,>=2.5 in /usr/local/lib/python3.10/dist-packages (from requests>=2.27->osmnx) (3.7)\n",
            "Requirement already satisfied: urllib3<3,>=1.21.1 in /usr/local/lib/python3.10/dist-packages (from requests>=2.27->osmnx) (2.0.7)\n",
            "Requirement already satisfied: certifi>=2017.4.17 in /usr/local/lib/python3.10/dist-packages (from requests>=2.27->osmnx) (2024.6.2)\n",
            "Requirement already satisfied: contourpy>=1.0.1 in /usr/local/lib/python3.10/dist-packages (from matplotlib->catboost) (1.2.1)\n",
            "Requirement already satisfied: cycler>=0.10 in /usr/local/lib/python3.10/dist-packages (from matplotlib->catboost) (0.12.1)\n",
            "Requirement already satisfied: fonttools>=4.22.0 in /usr/local/lib/python3.10/dist-packages (from matplotlib->catboost) (4.53.0)\n",
            "Requirement already satisfied: kiwisolver>=1.0.1 in /usr/local/lib/python3.10/dist-packages (from matplotlib->catboost) (1.4.5)\n",
            "Requirement already satisfied: pillow>=6.2.0 in /usr/local/lib/python3.10/dist-packages (from matplotlib->catboost) (9.4.0)\n",
            "Requirement already satisfied: pyparsing>=2.3.1 in /usr/local/lib/python3.10/dist-packages (from matplotlib->catboost) (3.1.2)\n",
            "Requirement already satisfied: tenacity>=6.2.0 in /usr/local/lib/python3.10/dist-packages (from plotly->catboost) (8.4.2)\n",
            "Requirement already satisfied: attrs>=19.2.0 in /usr/local/lib/python3.10/dist-packages (from fiona>=1.8.19->geopandas>=0.12->osmnx) (23.2.0)\n",
            "Requirement already satisfied: click~=8.0 in /usr/local/lib/python3.10/dist-packages (from fiona>=1.8.19->geopandas>=0.12->osmnx) (8.1.7)\n",
            "Requirement already satisfied: click-plugins>=1.0 in /usr/local/lib/python3.10/dist-packages (from fiona>=1.8.19->geopandas>=0.12->osmnx) (1.1.1)\n",
            "Requirement already satisfied: cligj>=0.5 in /usr/local/lib/python3.10/dist-packages (from fiona>=1.8.19->geopandas>=0.12->osmnx) (0.7.2)\n",
            "Installing collected packages: catboost, osmnx\n",
            "Successfully installed catboost-1.2.5 osmnx-1.9.3\n"
          ]
        }
      ],
      "source": [
        "!pip install catboost osmnx scipy geopy"
      ]
    },
    {
      "cell_type": "code",
      "source": [
        "import pandas as pd\n",
        "import numpy as np\n",
        "from sklearn.model_selection import train_test_split, GridSearchCV, KFold\n",
        "from sklearn.metrics import mean_squared_error, r2_score, mean_absolute_error\n",
        "from scipy.spatial import cKDTree\n",
        "from geopy.distance import geodesic\n",
        "from concurrent.futures import ThreadPoolExecutor\n",
        "from catboost import CatBoostRegressor, Pool\n",
        "import osmnx as ox\n",
        "import geopandas as gpd\n",
        "from shapely.geometry import Point, MultiPoint\n",
        "import requests\n",
        "import json\n",
        "from tqdm import tqdm\n",
        "import warnings\n",
        "warnings.filterwarnings('ignore', message=\"The indices of the two GeoSeries are different.\")"
      ],
      "metadata": {
        "id": "fh6MBOb5LWEH"
      },
      "execution_count": 19,
      "outputs": []
    },
    {
      "cell_type": "code",
      "source": [
        "def haversine_distance(lat1, lon1, lat2, lon2):\n",
        "    R = 6371  # радиус Земли в километрах\n",
        "\n",
        "    lat1_rad = np.radians(lat1)\n",
        "    lon1_rad = np.radians(lon1)\n",
        "    lat2_rad = np.radians(lat2)\n",
        "    lon2_rad = np.radians(lon2)\n",
        "\n",
        "    dlat = lat2_rad - lat1_rad\n",
        "    dlon = lon2_rad - lon1_rad\n",
        "\n",
        "    a = np.sin(dlat/2)**2 + np.cos(lat1_rad) * np.cos(lat2_rad) * np.sin(dlon/2)**2\n",
        "    c = 2 * np.arctan2(np.sqrt(a), np.sqrt(1-a))\n",
        "\n",
        "    distance = R * c\n",
        "    return distance"
      ],
      "metadata": {
        "id": "MWkqg-bHLYUT"
      },
      "execution_count": 3,
      "outputs": []
    },
    {
      "cell_type": "code",
      "source": [
        "df=pd.read_json('train_data.json')\n",
        "df=pd.concat([df,pd.json_normalize(df['targetAudience'])], axis=1)\n",
        "df=df.drop(['targetAudience','id'], axis=1)"
      ],
      "metadata": {
        "id": "12_ZTsvOLaBx"
      },
      "execution_count": 6,
      "outputs": []
    },
    {
      "cell_type": "code",
      "source": [
        "df['geometry'] = df['points'].apply(lambda x: Point(float(x[0]['lon']), float(x[0]['lat'])))\n",
        "gdf = gpd.GeoDataFrame(df, geometry='geometry')\n",
        "gdf.crs = 'EPSG:4326'"
      ],
      "metadata": {
        "id": "bFHbJxVxLbLf"
      },
      "execution_count": 7,
      "outputs": []
    },
    {
      "cell_type": "code",
      "source": [
        "moscow = ox.geocode_to_gdf('Moscow, Russia')\n",
        "\n",
        "population_density = { # wiki\n",
        "    'Центральный': 11702.67,\n",
        "    'Северный': 10709.15,\n",
        "    'Северо-Восточный': 14289.05,\n",
        "    'Восточный': 9743.75,\n",
        "    'Юго-Восточный': 12893.76,\n",
        "    'Южный': 13422.73,\n",
        "    'Юго-Западный': 12890.82,\n",
        "    'Западный': 9312.38,\n",
        "    'Северо-Западный': 11144.78,\n",
        "    'Зеленоградский': 7272.25,\n",
        "    'Новомосковский': 1497.79,\n",
        "    'Троицкий': 181.13\n",
        "}\n",
        "\n",
        "# Функция для определения административного округа\n",
        "def get_district(point):\n",
        "    for idx, row in moscow.iterrows():\n",
        "        if row.geometry.contains(point):\n",
        "            return row['name']\n",
        "    return 'Unknown'\n",
        "\n",
        "gdf['district'] = gdf.apply(lambda row: get_district(row.geometry), axis=1)\n",
        "gdf['population_density'] = gdf['district'].map(population_density)\n"
      ],
      "metadata": {
        "id": "NZdo5OQBLcLA"
      },
      "execution_count": 8,
      "outputs": []
    },
    {
      "cell_type": "code",
      "source": [
        "# Расстояние до центра (Красная площадь)\n",
        "red_square = Point(37.620393, 55.753930)\n",
        "gdf['distance_to_center'] = gdf.apply(lambda row: haversine_distance(row.geometry.y, row.geometry.x, red_square.y, red_square.x), axis=1)\n",
        "\n",
        "# Ближайшая станция метро\n",
        "metro_stations = ox.features_from_place('Moscow, Russia', tags={'railway': 'station', 'station': 'subway'})\n",
        "gdf['distance_to_metro'] = gdf.apply(lambda row: metro_stations.distance(row.geometry).min() / 1000, axis=1)\n",
        "\n",
        "shopping_centers = ox.features_from_place('Moscow, Russia', tags={'shop': 'mall'})\n",
        "gdf['distance_to_shopping_center'] = gdf.apply(lambda row: shopping_centers.distance(row.geometry).min() / 1000, axis=1)"
      ],
      "metadata": {
        "colab": {
          "base_uri": "https://localhost:8080/"
        },
        "id": "WrmZ7SHXLhyU",
        "outputId": "e94b2e81-30be-4944-a783-7de07a308a25"
      },
      "execution_count": 9,
      "outputs": [
        {
          "output_type": "stream",
          "name": "stderr",
          "text": [
            "<ipython-input-9-7990e1f8982c>:7: UserWarning: Geometry is in a geographic CRS. Results from 'distance' are likely incorrect. Use 'GeoSeries.to_crs()' to re-project geometries to a projected CRS before this operation.\n",
            "\n",
            "  gdf['distance_to_metro'] = gdf.apply(lambda row: metro_stations.distance(row.geometry).min() / 1000, axis=1)\n",
            "<ipython-input-9-7990e1f8982c>:10: UserWarning: Geometry is in a geographic CRS. Results from 'distance' are likely incorrect. Use 'GeoSeries.to_crs()' to re-project geometries to a projected CRS before this operation.\n",
            "\n",
            "  gdf['distance_to_shopping_center'] = gdf.apply(lambda row: shopping_centers.distance(row.geometry).min() / 1000, axis=1)\n"
          ]
        }
      ]
    },
    {
      "cell_type": "code",
      "source": [
        "def split_on_intervals(min_val, max_val, n):\n",
        "    step = (max_val - min_val) / n\n",
        "    intervals = [min_val + (step * x) for x in range(n + 1)]\n",
        "    return intervals\n",
        "\n",
        "def create_groups(x_intervals, y_intervals):\n",
        "    groups = {}\n",
        "    x_intervals = np.concatenate([[-np.inf], x_intervals, [np.inf]])\n",
        "    y_intervals = np.concatenate([[-np.inf], y_intervals, [np.inf]])\n",
        "\n",
        "    for x_i in range(len(x_intervals) - 1):\n",
        "        for y_i in range(len(y_intervals) - 1):\n",
        "            groups[f'x:{x_intervals[x_i]:.2f}-{x_intervals[x_i+1]:.2f}|y:{y_intervals[y_i]:.2f}-{y_intervals[y_i+1]:.2f}'] = 0\n",
        "\n",
        "    return groups\n",
        "\n",
        "\n",
        "def sort_on_groups(x_vals, y_vals, x_intervals, y_intervals, groups, only_vals=False):\n",
        "    for x, y in zip(x_vals, y_vals):\n",
        "        for x_i in range(len(x_intervals) - 1):\n",
        "            for y_i in range(len(y_intervals) - 1):\n",
        "                if (x_intervals[x_i] <= x < x_intervals[x_i + 1]) and (y_intervals[y_i] <= y < y_intervals[y_i + 1]):\n",
        "                    groups[f'x:{x_intervals[x_i]:.2f}-{x_intervals[x_i+1]:.2f}|y:{y_intervals[y_i]:.2f}-{y_intervals[y_i+1]:.2f}'] += 1\n",
        "\n",
        "    return list(groups.values()) if only_vals else groups\n",
        "\n",
        "def create_dataset(config, gdf):\n",
        "    x_intervals = split_on_intervals(config['min_xval'], config['max_xval'], config['x_ngroups'])\n",
        "    y_intervals = split_on_intervals(config['min_yval'], config['max_yval'], config['y_ngroups'])\n",
        "\n",
        "    groups = create_groups(x_intervals, y_intervals)\n",
        "\n",
        "    groups_values = []\n",
        "    for _, row in gdf.iterrows():\n",
        "        points = np.array([[float(x['lat']), float(x['lon'])] for x in row['points']])\n",
        "        group_values = sort_on_groups(points[:, 0], points[:, 1], x_intervals, y_intervals, groups.copy(), only_vals=True)\n",
        "        groups_values.append(group_values)\n",
        "\n",
        "    groups_values = np.array(groups_values)\n",
        "\n",
        "    result = pd.DataFrame(groups_values, columns=list(groups.keys()))\n",
        "\n",
        "    # Add additional features\n",
        "    result['num_points'] = gdf['points'].apply(len)\n",
        "    result['avg_lat'] = gdf['points'].apply(lambda x: np.mean([float(p['lat']) for p in x]))\n",
        "    result['avg_lon'] = gdf['points'].apply(lambda x: np.mean([float(p['lon']) for p in x]))\n",
        "    result['avg_azimuth'] = gdf['points'].apply(lambda x: np.mean([p['azimuth'] for p in x]))\n",
        "\n",
        "    # # Add target audience features\n",
        "    result['gender'] = gdf['gender'].map({'all': 0, 'male': 1, 'female': 2})\n",
        "    result['ageFrom'] = gdf['ageFrom']\n",
        "    result['ageTo'] = gdf['ageTo']\n",
        "    result['age_range'] = gdf['ageTo'] - gdf['ageFrom']\n",
        "    result['income'] = gdf['income'].map({'a': 1, 'b': 2, 'c': 3, 'ab': 4, 'bc': 5, 'ac': 6, 'abc': 7})\n",
        "\n",
        "    #Add new features\n",
        "    result['distance_to_center'] = gdf['distance_to_center']\n",
        "    result['distance_to_metro'] = gdf['distance_to_metro']\n",
        "    result['population_density'] = gdf['population_density']\n",
        "    result['distance_to_shopping_center'] = gdf['distance_to_shopping_center']\n",
        "\n",
        "    return result"
      ],
      "metadata": {
        "colab": {
          "base_uri": "https://localhost:8080/"
        },
        "id": "_m9t5Z9FLsTg",
        "outputId": "e7b860ae-0ed4-4290-d0a3-730fbfd3e434"
      },
      "execution_count": 10,
      "outputs": [
        {
          "output_type": "stream",
          "name": "stderr",
          "text": [
            "/usr/local/lib/python3.10/dist-packages/ipykernel/ipkernel.py:283: DeprecationWarning: `should_run_async` will not call `transform_cell` automatically in the future. Please pass the result to `transformed_cell` argument and any exception that happen during thetransform in `preprocessing_exc_tuple` in IPython 7.17 and above.\n",
            "  and should_run_async(code)\n"
          ]
        }
      ]
    },
    {
      "cell_type": "code",
      "source": [
        "config = {'min_xval':55.55, 'max_xval':55.95, 'min_yval':37.3, 'max_yval':37.9, 'x_ngroups': 33, 'y_ngroups': 33}"
      ],
      "metadata": {
        "id": "EvFv21_xL1Wb"
      },
      "execution_count": 11,
      "outputs": []
    },
    {
      "cell_type": "code",
      "source": [
        "X = create_dataset(config, gdf)\n",
        "y = df['value']"
      ],
      "metadata": {
        "id": "Wc4KmaPRL5TK"
      },
      "execution_count": 12,
      "outputs": []
    },
    {
      "cell_type": "code",
      "source": [
        "X_train, X_test, y_train, y_test = train_test_split(X, y, test_size=0.2, random_state=42)"
      ],
      "metadata": {
        "colab": {
          "base_uri": "https://localhost:8080/"
        },
        "id": "9ETBjUHsL6zv",
        "outputId": "44427825-5202-4b4a-ab66-b4fbdf34070f"
      },
      "execution_count": 13,
      "outputs": [
        {
          "output_type": "stream",
          "name": "stderr",
          "text": [
            "/usr/local/lib/python3.10/dist-packages/ipykernel/ipkernel.py:283: DeprecationWarning: `should_run_async` will not call `transform_cell` automatically in the future. Please pass the result to `transformed_cell` argument and any exception that happen during thetransform in `preprocessing_exc_tuple` in IPython 7.17 and above.\n",
            "  and should_run_async(code)\n"
          ]
        }
      ]
    },
    {
      "cell_type": "code",
      "source": [
        "model = CatBoostRegressor(iterations=1700,\n",
        "                          depth=6,\n",
        "                          learning_rate=0.04,\n",
        "                          grow_policy='SymmetricTree',\n",
        "                          random_state=42,\n",
        "                          loss_function='RMSE')\n",
        "\n",
        "model.fit(X_train, y_train, eval_set=(X_test, y_test), verbose=100)"
      ],
      "metadata": {
        "colab": {
          "base_uri": "https://localhost:8080/"
        },
        "id": "7Ig-ZztsL8Ba",
        "outputId": "9bc6c564-d661-452b-9e56-0c54b0bfb48b"
      },
      "execution_count": 14,
      "outputs": [
        {
          "output_type": "stream",
          "name": "stdout",
          "text": [
            "0:\tlearn: 23.7090362\ttest: 21.7998817\tbest: 21.7998817 (0)\ttotal: 60.7ms\tremaining: 1m 43s\n",
            "100:\tlearn: 9.3417619\ttest: 9.4355152\tbest: 9.4355152 (100)\ttotal: 1.26s\tremaining: 19.9s\n",
            "200:\tlearn: 7.4205334\ttest: 8.1602172\tbest: 8.1602172 (200)\ttotal: 2.44s\tremaining: 18.2s\n",
            "300:\tlearn: 6.2832707\ttest: 7.5366365\tbest: 7.5366365 (300)\ttotal: 3.63s\tremaining: 16.9s\n",
            "400:\tlearn: 5.6673500\ttest: 7.1649117\tbest: 7.1649117 (400)\ttotal: 4.79s\tremaining: 15.5s\n",
            "500:\tlearn: 5.1983372\ttest: 6.9555953\tbest: 6.9551489 (499)\ttotal: 5.97s\tremaining: 14.3s\n",
            "600:\tlearn: 4.8404025\ttest: 6.8178635\tbest: 6.8170571 (598)\ttotal: 7.14s\tremaining: 13.1s\n",
            "700:\tlearn: 4.5429632\ttest: 6.7352540\tbest: 6.7352540 (700)\ttotal: 8.29s\tremaining: 11.8s\n",
            "800:\tlearn: 4.3231677\ttest: 6.6710322\tbest: 6.6705001 (799)\ttotal: 9.76s\tremaining: 10.9s\n",
            "900:\tlearn: 4.1306358\ttest: 6.6388674\tbest: 6.6384745 (899)\ttotal: 12s\tremaining: 10.6s\n",
            "1000:\tlearn: 3.9818831\ttest: 6.6174801\tbest: 6.6171812 (996)\ttotal: 14s\tremaining: 9.76s\n",
            "1100:\tlearn: 3.8496645\ttest: 6.5916979\tbest: 6.5901203 (1096)\ttotal: 15.2s\tremaining: 8.25s\n",
            "1200:\tlearn: 3.7284121\ttest: 6.5964229\tbest: 6.5889964 (1114)\ttotal: 16.3s\tremaining: 6.79s\n",
            "1300:\tlearn: 3.6417143\ttest: 6.5887492\tbest: 6.5837405 (1249)\ttotal: 17.5s\tremaining: 5.37s\n",
            "1400:\tlearn: 3.5590228\ttest: 6.5907649\tbest: 6.5837405 (1249)\ttotal: 18.7s\tremaining: 3.98s\n",
            "1500:\tlearn: 3.4874902\ttest: 6.5970871\tbest: 6.5837405 (1249)\ttotal: 19.8s\tremaining: 2.63s\n",
            "1600:\tlearn: 3.4257766\ttest: 6.6032258\tbest: 6.5837405 (1249)\ttotal: 21s\tremaining: 1.3s\n",
            "1699:\tlearn: 3.3779577\ttest: 6.6130474\tbest: 6.5837405 (1249)\ttotal: 22.2s\tremaining: 0us\n",
            "\n",
            "bestTest = 6.583740525\n",
            "bestIteration = 1249\n",
            "\n",
            "Shrink model to first 1250 iterations.\n"
          ]
        },
        {
          "output_type": "execute_result",
          "data": {
            "text/plain": [
              "<catboost.core.CatBoostRegressor at 0x7a7d187b3ca0>"
            ]
          },
          "metadata": {},
          "execution_count": 14
        }
      ]
    },
    {
      "cell_type": "code",
      "source": [
        "y_pred = model.predict(X_test)"
      ],
      "metadata": {
        "id": "GhgYrZcwL9BS"
      },
      "execution_count": 15,
      "outputs": []
    },
    {
      "cell_type": "code",
      "source": [
        "rmse = mean_squared_error(y_test, y_pred, squared=False)\n",
        "r2 = r2_score(y_test, y_pred)\n",
        "mae = mean_absolute_error(y_test, y_pred)\n",
        "custom = max(1 - rmse/30, 0) ** 4\n",
        "\n",
        "print(f'RMSE: {rmse:.4f}')\n",
        "print(f'R²: {r2:.4f}')\n",
        "print(f'MAE: {mae:.4f}')\n",
        "print(f'Custom: {custom:.4f}')\n",
        "\n",
        "feature_importance = pd.DataFrame({'feature': X.columns, 'importance': model.feature_importances_})\n",
        "print(feature_importance.sort_values('importance', ascending=False))"
      ],
      "metadata": {
        "colab": {
          "base_uri": "https://localhost:8080/"
        },
        "id": "27sdT54XL--b",
        "outputId": "0f561b17-7bc0-4ff5-eda5-7a4597c062b6"
      },
      "execution_count": 16,
      "outputs": [
        {
          "output_type": "stream",
          "name": "stdout",
          "text": [
            "RMSE: 6.5837\n",
            "R²: 0.9115\n",
            "MAE: 4.2347\n",
            "Custom: 0.3712\n",
            "                          feature  importance\n",
            "1225                   num_points   19.117246\n",
            "128   x:55.57-55.59|y:37.70-37.72    3.305264\n",
            "824   x:55.82-55.83|y:37.63-37.65    3.031304\n",
            "1026  x:55.89-55.90|y:37.48-37.50    2.858889\n",
            "536   x:55.72-55.73|y:37.48-37.50    2.750096\n",
            "...                           ...         ...\n",
            "456   x:55.70-55.71|y:37.30-37.32    0.000000\n",
            "459   x:55.70-55.71|y:37.35-37.37    0.000000\n",
            "460   x:55.70-55.71|y:37.37-37.39    0.000000\n",
            "462   x:55.70-55.71|y:37.41-37.43    0.000000\n",
            "619   x:55.74-55.76|y:37.72-37.74    0.000000\n",
            "\n",
            "[1238 rows x 2 columns]\n"
          ]
        },
        {
          "output_type": "stream",
          "name": "stderr",
          "text": [
            "<frozen importlib._bootstrap>:914: ImportWarning: _PyDrive2ImportHook.find_spec() not found; falling back to find_module()\n",
            "<frozen importlib._bootstrap>:914: ImportWarning: _PyDriveImportHook.find_spec() not found; falling back to find_module()\n",
            "<frozen importlib._bootstrap>:914: ImportWarning: _GenerativeAIImportHook.find_spec() not found; falling back to find_module()\n",
            "<frozen importlib._bootstrap>:914: ImportWarning: _OpenCVImportHook.find_spec() not found; falling back to find_module()\n",
            "<frozen importlib._bootstrap>:914: ImportWarning: APICoreClientInfoImportHook.find_spec() not found; falling back to find_module()\n",
            "<frozen importlib._bootstrap>:914: ImportWarning: _BokehImportHook.find_spec() not found; falling back to find_module()\n",
            "<frozen importlib._bootstrap>:914: ImportWarning: _AltairImportHook.find_spec() not found; falling back to find_module()\n"
          ]
        }
      ]
    },
    {
      "cell_type": "code",
      "source": [
        "model.save_model('mediawise-model.cbm')"
      ],
      "metadata": {
        "id": "3dKjfKLBMAWr"
      },
      "execution_count": 17,
      "outputs": []
    },
    {
      "cell_type": "code",
      "source": [],
      "metadata": {
        "id": "DmNsh1RAM1_0"
      },
      "execution_count": null,
      "outputs": []
    }
  ]
}