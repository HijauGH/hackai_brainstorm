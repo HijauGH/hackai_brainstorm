{
  "nbformat": 4,
  "nbformat_minor": 0,
  "metadata": {
    "colab": {
      "provenance": []
    },
    "kernelspec": {
      "name": "python3",
      "display_name": "Python 3"
    },
    "language_info": {
      "name": "python"
    }
  },
  "cells": [
    {
      "cell_type": "code",
      "execution_count": 25,
      "metadata": {
        "colab": {
          "base_uri": "https://localhost:8080/"
        },
        "id": "9Sl0NVCSMYN_",
        "outputId": "529edf56-b72f-441d-9e1f-f6cb9d06de44"
      },
      "outputs": [
        {
          "output_type": "stream",
          "name": "stdout",
          "text": [
            "Requirement already satisfied: catboost in /usr/local/lib/python3.10/dist-packages (1.2.5)\n",
            "Requirement already satisfied: osmnx in /usr/local/lib/python3.10/dist-packages (1.9.3)\n",
            "Requirement already satisfied: geopy in /usr/local/lib/python3.10/dist-packages (2.3.0)\n",
            "Requirement already satisfied: geopandas in /usr/local/lib/python3.10/dist-packages (0.13.2)\n",
            "Requirement already satisfied: shapely in /usr/local/lib/python3.10/dist-packages (2.0.4)\n",
            "Requirement already satisfied: scipy in /usr/local/lib/python3.10/dist-packages (1.11.4)\n",
            "Requirement already satisfied: graphviz in /usr/local/lib/python3.10/dist-packages (from catboost) (0.20.3)\n",
            "Requirement already satisfied: matplotlib in /usr/local/lib/python3.10/dist-packages (from catboost) (3.7.1)\n",
            "Requirement already satisfied: numpy>=1.16.0 in /usr/local/lib/python3.10/dist-packages (from catboost) (1.25.2)\n",
            "Requirement already satisfied: pandas>=0.24 in /usr/local/lib/python3.10/dist-packages (from catboost) (2.0.3)\n",
            "Requirement already satisfied: plotly in /usr/local/lib/python3.10/dist-packages (from catboost) (5.15.0)\n",
            "Requirement already satisfied: six in /usr/local/lib/python3.10/dist-packages (from catboost) (1.16.0)\n",
            "Requirement already satisfied: networkx>=2.5 in /usr/local/lib/python3.10/dist-packages (from osmnx) (3.3)\n",
            "Requirement already satisfied: requests>=2.27 in /usr/local/lib/python3.10/dist-packages (from osmnx) (2.31.0)\n",
            "Requirement already satisfied: geographiclib<3,>=1.52 in /usr/local/lib/python3.10/dist-packages (from geopy) (2.0)\n",
            "Requirement already satisfied: fiona>=1.8.19 in /usr/local/lib/python3.10/dist-packages (from geopandas) (1.9.6)\n",
            "Requirement already satisfied: packaging in /usr/local/lib/python3.10/dist-packages (from geopandas) (24.1)\n",
            "Requirement already satisfied: pyproj>=3.0.1 in /usr/local/lib/python3.10/dist-packages (from geopandas) (3.6.1)\n",
            "Requirement already satisfied: attrs>=19.2.0 in /usr/local/lib/python3.10/dist-packages (from fiona>=1.8.19->geopandas) (23.2.0)\n",
            "Requirement already satisfied: certifi in /usr/local/lib/python3.10/dist-packages (from fiona>=1.8.19->geopandas) (2024.6.2)\n",
            "Requirement already satisfied: click~=8.0 in /usr/local/lib/python3.10/dist-packages (from fiona>=1.8.19->geopandas) (8.1.7)\n",
            "Requirement already satisfied: click-plugins>=1.0 in /usr/local/lib/python3.10/dist-packages (from fiona>=1.8.19->geopandas) (1.1.1)\n",
            "Requirement already satisfied: cligj>=0.5 in /usr/local/lib/python3.10/dist-packages (from fiona>=1.8.19->geopandas) (0.7.2)\n",
            "Requirement already satisfied: python-dateutil>=2.8.2 in /usr/local/lib/python3.10/dist-packages (from pandas>=0.24->catboost) (2.8.2)\n",
            "Requirement already satisfied: pytz>=2020.1 in /usr/local/lib/python3.10/dist-packages (from pandas>=0.24->catboost) (2023.4)\n",
            "Requirement already satisfied: tzdata>=2022.1 in /usr/local/lib/python3.10/dist-packages (from pandas>=0.24->catboost) (2024.1)\n",
            "Requirement already satisfied: charset-normalizer<4,>=2 in /usr/local/lib/python3.10/dist-packages (from requests>=2.27->osmnx) (3.3.2)\n",
            "Requirement already satisfied: idna<4,>=2.5 in /usr/local/lib/python3.10/dist-packages (from requests>=2.27->osmnx) (3.7)\n",
            "Requirement already satisfied: urllib3<3,>=1.21.1 in /usr/local/lib/python3.10/dist-packages (from requests>=2.27->osmnx) (2.0.7)\n",
            "Requirement already satisfied: contourpy>=1.0.1 in /usr/local/lib/python3.10/dist-packages (from matplotlib->catboost) (1.2.1)\n",
            "Requirement already satisfied: cycler>=0.10 in /usr/local/lib/python3.10/dist-packages (from matplotlib->catboost) (0.12.1)\n",
            "Requirement already satisfied: fonttools>=4.22.0 in /usr/local/lib/python3.10/dist-packages (from matplotlib->catboost) (4.53.0)\n",
            "Requirement already satisfied: kiwisolver>=1.0.1 in /usr/local/lib/python3.10/dist-packages (from matplotlib->catboost) (1.4.5)\n",
            "Requirement already satisfied: pillow>=6.2.0 in /usr/local/lib/python3.10/dist-packages (from matplotlib->catboost) (9.4.0)\n",
            "Requirement already satisfied: pyparsing>=2.3.1 in /usr/local/lib/python3.10/dist-packages (from matplotlib->catboost) (3.1.2)\n",
            "Requirement already satisfied: tenacity>=6.2.0 in /usr/local/lib/python3.10/dist-packages (from plotly->catboost) (8.4.2)\n"
          ]
        }
      ],
      "source": [
        "!pip install catboost osmnx geopy geopandas shapely scipy"
      ]
    },
    {
      "cell_type": "code",
      "source": [
        "from catboost import CatBoostRegressor\n",
        "from geopy.distance import geodesic\n",
        "import pandas as pd\n",
        "import osmnx as ox\n",
        "import geopandas as gpd\n",
        "import numpy as np\n",
        "from scipy.spatial import cKDTree\n",
        "from shapely.geometry import Point, MultiPoint\n",
        "\n",
        "model = CatBoostRegressor()\n",
        "\n",
        "model.load_model('mediawise-model.cbm')"
      ],
      "metadata": {
        "colab": {
          "base_uri": "https://localhost:8080/"
        },
        "id": "koDBVOukMcQX",
        "outputId": "b6a632d7-1e0d-403d-d369-1f5892044b23"
      },
      "execution_count": 30,
      "outputs": [
        {
          "output_type": "stream",
          "name": "stderr",
          "text": [
            "/usr/local/lib/python3.10/dist-packages/ipykernel/ipkernel.py:283: DeprecationWarning: `should_run_async` will not call `transform_cell` automatically in the future. Please pass the result to `transformed_cell` argument and any exception that happen during thetransform in `preprocessing_exc_tuple` in IPython 7.17 and above.\n",
            "  and should_run_async(code)\n"
          ]
        },
        {
          "output_type": "execute_result",
          "data": {
            "text/plain": [
              "<catboost.core.CatBoostRegressor at 0x782a4ffd99c0>"
            ]
          },
          "metadata": {},
          "execution_count": 30
        }
      ]
    },
    {
      "cell_type": "code",
      "source": [
        "def split_on_intervals(min_val, max_val, n):\n",
        "    step = (max_val - min_val) / n\n",
        "    intervals = [min_val + (step * x) for x in range(n + 1)]\n",
        "    return intervals\n",
        "\n",
        "def create_groups(x_intervals, y_intervals):\n",
        "    groups = {}\n",
        "    x_intervals = np.concatenate([[-np.inf], x_intervals, [np.inf]])\n",
        "    y_intervals = np.concatenate([[-np.inf], y_intervals, [np.inf]])\n",
        "\n",
        "    for x_i in range(len(x_intervals) - 1):\n",
        "        for y_i in range(len(y_intervals) - 1):\n",
        "            groups[f'x:{x_intervals[x_i]:.2f}-{x_intervals[x_i+1]:.2f}|y:{y_intervals[y_i]:.2f}-{y_intervals[y_i+1]:.2f}'] = 0\n",
        "\n",
        "    return groups\n",
        "\n",
        "\n",
        "def sort_on_groups(x_vals, y_vals, x_intervals, y_intervals, groups, only_vals=False):\n",
        "    for x, y in zip(x_vals, y_vals):\n",
        "        for x_i in range(len(x_intervals) - 1):\n",
        "            for y_i in range(len(y_intervals) - 1):\n",
        "                if (x_intervals[x_i] <= x < x_intervals[x_i + 1]) and (y_intervals[y_i] <= y < y_intervals[y_i + 1]):\n",
        "                    groups[f'x:{x_intervals[x_i]:.2f}-{x_intervals[x_i+1]:.2f}|y:{y_intervals[y_i]:.2f}-{y_intervals[y_i+1]:.2f}'] += 1\n",
        "\n",
        "    return list(groups.values()) if only_vals else groups\n",
        "\n",
        "def create_dataset(config, gdf):\n",
        "    x_intervals = split_on_intervals(config['min_xval'], config['max_xval'], config['x_ngroups'])\n",
        "    y_intervals = split_on_intervals(config['min_yval'], config['max_yval'], config['y_ngroups'])\n",
        "\n",
        "    groups = create_groups(x_intervals, y_intervals)\n",
        "\n",
        "    groups_values = []\n",
        "    for _, row in gdf.iterrows():\n",
        "        points = np.array([[float(x['lat']), float(x['lon'])] for x in row['points']])\n",
        "        group_values = sort_on_groups(points[:, 0], points[:, 1], x_intervals, y_intervals, groups.copy(), only_vals=True)\n",
        "        groups_values.append(group_values)\n",
        "\n",
        "    groups_values = np.array(groups_values)\n",
        "\n",
        "    result = pd.DataFrame(groups_values, columns=list(groups.keys()))\n",
        "\n",
        "    # Add additional features\n",
        "    result['num_points'] = gdf['points'].apply(len)\n",
        "    result['avg_lat'] = gdf['points'].apply(lambda x: np.mean([float(p['lat']) for p in x]))\n",
        "    result['avg_lon'] = gdf['points'].apply(lambda x: np.mean([float(p['lon']) for p in x]))\n",
        "    result['avg_azimuth'] = gdf['points'].apply(lambda x: np.mean([p['azimuth'] for p in x]))\n",
        "\n",
        "    # # Add target audience features\n",
        "    result['gender'] = gdf['gender'].map({'all': 0, 'male': 1, 'female': 2})\n",
        "    result['ageFrom'] = gdf['ageFrom']\n",
        "    result['ageTo'] = gdf['ageTo']\n",
        "    result['age_range'] = gdf['ageTo'] - gdf['ageFrom']\n",
        "    result['income'] = gdf['income'].map({'a': 1, 'b': 2, 'c': 3, 'ab': 4, 'bc': 5, 'ac': 6, 'abc': 7})\n",
        "\n",
        "    #Add new features\n",
        "    result['distance_to_center'] = gdf['distance_to_center']\n",
        "    result['distance_to_metro'] = gdf['distance_to_metro']\n",
        "    result['population_density'] = gdf['population_density']\n",
        "    result['distance_to_shopping_center'] = gdf['distance_to_shopping_center']\n",
        "\n",
        "    return result"
      ],
      "metadata": {
        "id": "J3-wZACAOBfY"
      },
      "execution_count": 31,
      "outputs": []
    },
    {
      "cell_type": "code",
      "source": [
        "# Load and prepare data\n",
        "metro_stations = ox.features_from_place('Moscow, Russia', tags={'railway': 'station', 'station': 'subway'})\n",
        "shopping_centers = ox.features_from_place('Moscow, Russia', tags={'shop': 'mall'})\n",
        "moscow = ox.geocode_to_gdf('Moscow, Russia')\n",
        "\n",
        "population_density = {\n",
        "    'Центральный': 11702.67,\n",
        "    'Северный': 10709.15,\n",
        "    'Северо-Восточный': 14289.05\t,\n",
        "    'Восточный': 9743.75,\n",
        "    'Юго-Восточный': 12893.76,\n",
        "    'Южный': 13422.73,\n",
        "    'Юго-Западный': 12890.82,\n",
        "    'Западный': 9312.38,\n",
        "    'Северо-Западный': 11144.78,\n",
        "    'Зеленоградский': 7272.25,\n",
        "    'Новомосковский': 1497.79,\n",
        "    'Троицкий': 181.13\n",
        "}\n",
        "\n",
        "# Function to get centroid coordinates\n",
        "def get_centroid_coords(geom):\n",
        "    if geom.geom_type == 'Point':\n",
        "        return (geom.y, geom.x)\n",
        "    else:\n",
        "        centroid = geom.centroid\n",
        "        return (centroid.y, centroid.x)\n",
        "\n",
        "# Prepare KD-trees\n",
        "metro_points = np.array([get_centroid_coords(geom) for geom in metro_stations.geometry])\n",
        "shopping_points = np.array([get_centroid_coords(geom) for geom in shopping_centers.geometry])\n",
        "metro_tree = cKDTree(metro_points)\n",
        "shopping_tree = cKDTree(shopping_points)\n",
        "\n",
        "# Prepare spatial index\n",
        "moscow = ox.geocode_to_gdf('Moscow, Russia')\n",
        "moscow_sindex = moscow.sindex\n",
        "\n",
        "\n",
        "prediction_cache = {}\n",
        "\n",
        "def predict_reach(points, target_audience):\n",
        "    # Convert points to a hashable type for caching\n",
        "    points_key = tuple(sorted((p['lon'], p['lat']) for p in points))\n",
        "    # Check if we have a cached result\n",
        "    if points_key in prediction_cache:\n",
        "        return prediction_cache[points_key]\n",
        "\n",
        "    # If not in cache, compute the prediction\n",
        "    df = pd.DataFrame({'points': [points], 'income': [target_audience['income']], 'gender': [target_audience['gender']], 'ageTo': [target_audience['ageTo']], 'ageFrom': [target_audience['ageFrom']] })\n",
        "\n",
        "    df['geometry'] = df['points'].apply(lambda x: Point(float(x[0]['lon']), float(x[0]['lat'])))\n",
        "    gdf = gpd.GeoDataFrame(df, geometry='geometry')\n",
        "    gdf.crs = 'EPSG:4326'\n",
        "\n",
        "    # Compute features\n",
        "    red_square = (55.753930, 37.620393)\n",
        "    gdf['distance_to_center'] = gdf.apply(lambda row: geodesic((row.geometry.y, row.geometry.x), red_square).kilometers, axis=1)\n",
        "\n",
        "    coords = np.array([(point.y, point.x) for point in gdf.geometry])\n",
        "    gdf['distance_to_metro'] = metro_tree.query(coords)[0]\n",
        "    gdf['distance_to_shopping_center'] = shopping_tree.query(coords)[0]\n",
        "\n",
        "    possible_matches_index = list(moscow_sindex.intersection(gdf.total_bounds))\n",
        "    possible_matches = moscow.iloc[possible_matches_index]\n",
        "    points_in_districts = gpd.sjoin(gdf, possible_matches, how='left', predicate='within')\n",
        "    gdf['district'] = points_in_districts['name']\n",
        "    gdf['population_density'] = gdf['district'].map(population_density)\n",
        "\n",
        "    # Add target audience data\n",
        "    for key, value in target_audience.items():\n",
        "        gdf[key] = value\n",
        "\n",
        "    # Create dataset for prediction\n",
        "    X = create_dataset(config, gdf)\n",
        "\n",
        "    # Make prediction\n",
        "    prediction = model.predict(X)[0]\n",
        "\n",
        "    # Cache the result\n",
        "    prediction_cache[points_key] = prediction\n",
        "\n",
        "    return prediction\n",
        "\n",
        "config = {'min_xval':55.55, 'max_xval':55.95, 'min_yval':37.3, 'max_yval':37.9, 'x_ngroups': 33, 'y_ngroups': 33}"
      ],
      "metadata": {
        "id": "2An9GuteNEHs"
      },
      "execution_count": 32,
      "outputs": []
    },
    {
      "cell_type": "code",
      "source": [
        "records = pd.read_json('test_data.json')\n",
        "\n",
        "records['value'] = records.apply(lambda row: max(predict_reach(row['points'], row['targetAudience']), 0), axis=1)\n",
        "records.drop(['targetAudience', 'points'], axis=1, inplace=True)"
      ],
      "metadata": {
        "id": "1w0DF9mkMwV6"
      },
      "execution_count": 35,
      "outputs": []
    },
    {
      "cell_type": "code",
      "source": [
        "records.to_csv('submission.csv', sep =',', lineterminator='\\n', index=False)"
      ],
      "metadata": {
        "colab": {
          "base_uri": "https://localhost:8080/"
        },
        "id": "_MgukPnWNk6P",
        "outputId": "fa833389-e017-4876-e2b0-9b201b301d56"
      },
      "execution_count": 36,
      "outputs": [
        {
          "output_type": "stream",
          "name": "stderr",
          "text": [
            "<frozen importlib._bootstrap>:914: ImportWarning: _PyDrive2ImportHook.find_spec() not found; falling back to find_module()\n",
            "<frozen importlib._bootstrap>:914: ImportWarning: _PyDriveImportHook.find_spec() not found; falling back to find_module()\n",
            "<frozen importlib._bootstrap>:914: ImportWarning: _GenerativeAIImportHook.find_spec() not found; falling back to find_module()\n",
            "<frozen importlib._bootstrap>:914: ImportWarning: _OpenCVImportHook.find_spec() not found; falling back to find_module()\n",
            "<frozen importlib._bootstrap>:914: ImportWarning: APICoreClientInfoImportHook.find_spec() not found; falling back to find_module()\n",
            "<frozen importlib._bootstrap>:914: ImportWarning: _BokehImportHook.find_spec() not found; falling back to find_module()\n",
            "<frozen importlib._bootstrap>:914: ImportWarning: _AltairImportHook.find_spec() not found; falling back to find_module()\n"
          ]
        }
      ]
    },
    {
      "cell_type": "code",
      "source": [],
      "metadata": {
        "id": "HjeKy2EPN3wS"
      },
      "execution_count": null,
      "outputs": []
    }
  ]
}